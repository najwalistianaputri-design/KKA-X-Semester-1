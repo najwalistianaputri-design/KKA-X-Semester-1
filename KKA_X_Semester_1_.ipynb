{
  "nbformat": 4,
  "nbformat_minor": 0,
  "metadata": {
    "colab": {
      "provenance": [],
      "authorship_tag": "ABX9TyOoIyEjZ8pExspzd42Augwm",
      "include_colab_link": true
    },
    "kernelspec": {
      "name": "python3",
      "display_name": "Python 3"
    },
    "language_info": {
      "name": "python"
    }
  },
  "cells": [
    {
      "cell_type": "markdown",
      "metadata": {
        "id": "view-in-github",
        "colab_type": "text"
      },
      "source": [
        "<a href=\"https://colab.research.google.com/github/najwalistianaputri-design/KKA-X-Semester-1/blob/main/KKA_X_Semester_1_.ipynb\" target=\"_parent\"><img src=\"https://colab.research.google.com/assets/colab-badge.svg\" alt=\"Open In Colab\"/></a>"
      ]
    },
    {
      "cell_type": "markdown",
      "source": [
        "Menampilkan Teks Bebas"
      ],
      "metadata": {
        "id": "ziOQc2d8OgEj"
      }
    },
    {
      "cell_type": "code",
      "execution_count": null,
      "metadata": {
        "colab": {
          "base_uri": "https://localhost:8080/"
        },
        "id": "fHywQznf8TQg",
        "outputId": "bbaba50d-1eea-4fe9-fd40-efaed2573f2d"
      },
      "outputs": [
        {
          "output_type": "stream",
          "name": "stdout",
          "text": [
            "najwa listiana putri\n"
          ]
        }
      ],
      "source": [
        "print(\"najwa listiana putri\")"
      ]
    },
    {
      "cell_type": "code",
      "source": [
        "print(\"mumtaz nurul atqiya\")"
      ],
      "metadata": {
        "colab": {
          "base_uri": "https://localhost:8080/"
        },
        "id": "dkcQ1tRc8fLT",
        "outputId": "d8e6b0c3-1d63-4570-cc6b-0c0299f9c59e"
      },
      "execution_count": null,
      "outputs": [
        {
          "output_type": "stream",
          "name": "stdout",
          "text": [
            "mumtaz nurul atqiya\n"
          ]
        }
      ]
    },
    {
      "cell_type": "markdown",
      "source": [
        "Menampilkan Nilai Variabel"
      ],
      "metadata": {
        "id": "qSLu5iv7Nag7"
      }
    },
    {
      "cell_type": "code",
      "source": [
        "usia = 15\n",
        "print(usia)"
      ],
      "metadata": {
        "colab": {
          "base_uri": "https://localhost:8080/"
        },
        "id": "3L1jmYgr95KW",
        "outputId": "07c14382-5717-4709-ca2b-b1c9a7c31120"
      },
      "execution_count": null,
      "outputs": [
        {
          "output_type": "stream",
          "name": "stdout",
          "text": [
            "15\n"
          ]
        }
      ]
    },
    {
      "cell_type": "code",
      "source": [
        "namaSaudara = \"jenita ramadhani listiana putri\"\n",
        "\n",
        "print(namaSaudara)"
      ],
      "metadata": {
        "colab": {
          "base_uri": "https://localhost:8080/"
        },
        "id": "F6a6CFn3-5s2",
        "outputId": "5ffa5a5b-7cf7-4caf-ab2d-eca0e89f2678"
      },
      "execution_count": null,
      "outputs": [
        {
          "output_type": "stream",
          "name": "stdout",
          "text": [
            "jenita ramadhani listiana putri\n"
          ]
        }
      ]
    },
    {
      "cell_type": "code",
      "source": [
        "mataPelajaranFavorit = \"FIQIH\"\n",
        "print(mataPelajaranFavorit)"
      ],
      "metadata": {
        "colab": {
          "base_uri": "https://localhost:8080/"
        },
        "id": "ezRFRqiS_vE0",
        "outputId": "fb5b1c0c-0238-433b-b283-34a01ac13612"
      },
      "execution_count": null,
      "outputs": [
        {
          "output_type": "stream",
          "name": "stdout",
          "text": [
            "FIQIH\n"
          ]
        }
      ]
    },
    {
      "cell_type": "markdown",
      "source": [
        "Menampilkan Teks Bebas dan Nilai Variabel"
      ],
      "metadata": {
        "id": "Px3obgtfNrO3"
      }
    },
    {
      "cell_type": "code",
      "source": [
        "print(\"Nama saudara:\" + namaSaudara)"
      ],
      "metadata": {
        "colab": {
          "base_uri": "https://localhost:8080/"
        },
        "id": "GQxbHR84BTd-",
        "outputId": "43b18085-3725-465e-e66d-9f3613409b94"
      },
      "execution_count": null,
      "outputs": [
        {
          "output_type": "stream",
          "name": "stdout",
          "text": [
            "Nama saudara:jenita ramadhani listiana putri\n"
          ]
        }
      ]
    },
    {
      "cell_type": "code",
      "source": [
        "print(\"Mata pelajaran favorit:\" + mataPelajaranFavorit)"
      ],
      "metadata": {
        "colab": {
          "base_uri": "https://localhost:8080/"
        },
        "id": "deLPA0A4CTNv",
        "outputId": "ede5e53f-8b55-45fe-d629-b1feac49e3d6"
      },
      "execution_count": null,
      "outputs": [
        {
          "output_type": "stream",
          "name": "stdout",
          "text": [
            "Mata pelajaran favorit:FIQIH\n"
          ]
        }
      ]
    },
    {
      "cell_type": "code",
      "source": [
        "namaSaudara = \"Jenita\"\n",
        "print(\"Nama saudara: \" + namaSaudara)"
      ],
      "metadata": {
        "colab": {
          "base_uri": "https://localhost:8080/"
        },
        "id": "MM7KrQdp0zF-",
        "outputId": "a3816abc-c3eb-4956-8aa4-3df499ba8cad"
      },
      "execution_count": null,
      "outputs": [
        {
          "output_type": "stream",
          "name": "stdout",
          "text": [
            "Nama saudara: Jenita\n"
          ]
        }
      ]
    },
    {
      "cell_type": "code",
      "source": [
        "nama_panggilan_siswa = \"Najwa\"\n",
        "print(\"Nama panggilan siswa tersebut adalah\", nama_panggilan_siswa)"
      ],
      "metadata": {
        "colab": {
          "base_uri": "https://localhost:8080/"
        },
        "id": "QQ27zWgB_tDk",
        "outputId": "6d9fc04b-600a-4b28-d508-c07f7602d2c2"
      },
      "execution_count": null,
      "outputs": [
        {
          "output_type": "stream",
          "name": "stdout",
          "text": [
            "Nama panggilan siswa tersebut adalah Najwa\n"
          ]
        }
      ]
    },
    {
      "cell_type": "code",
      "source": [
        "print(f\"Nama panggilan siswa tersebut adalah {nama_panggilan_siswa} loh!\")"
      ],
      "metadata": {
        "colab": {
          "base_uri": "https://localhost:8080/"
        },
        "id": "D34onI8nCmMh",
        "outputId": "b7b453b2-3d7c-44f3-d811-df2ebd60fdbd"
      },
      "execution_count": null,
      "outputs": [
        {
          "output_type": "stream",
          "name": "stdout",
          "text": [
            "Nama panggilan siswa tersebut adalah Najwa loh!\n"
          ]
        }
      ]
    },
    {
      "cell_type": "markdown",
      "source": [
        "Escape Character"
      ],
      "metadata": {
        "id": "PGCkut6sN5_n"
      }
    },
    {
      "cell_type": "code",
      "source": [
        "print(\"Nama: Najwa Listiana Putri\")\n",
        "print(\"Kelas: X.10\")\n",
        "print(\"No absen: 22\")"
      ],
      "metadata": {
        "colab": {
          "base_uri": "https://localhost:8080/"
        },
        "id": "BsDbI7P1EUg0",
        "outputId": "bcdd4421-cb53-48cf-d2e9-aed948dec2de"
      },
      "execution_count": null,
      "outputs": [
        {
          "output_type": "stream",
          "name": "stdout",
          "text": [
            "Nama: Najwa Listiana Putri\n",
            "Kelas: X.10\n",
            "No absen: 22\n"
          ]
        }
      ]
    },
    {
      "cell_type": "code",
      "source": [
        "print(\"Nama\\t\\t: Najwa Listiana Putri\\nKelas\\t\\t:X.10\\nNo absen\\t: 22\")"
      ],
      "metadata": {
        "colab": {
          "base_uri": "https://localhost:8080/"
        },
        "id": "p91Ez7nvE8sq",
        "outputId": "b25b54cc-1cbd-46cf-9f89-6ee45b16ed79"
      },
      "execution_count": null,
      "outputs": [
        {
          "output_type": "stream",
          "name": "stdout",
          "text": [
            "Nama\t\t: Najwa Listiana Putri\n",
            "Kelas\t\t:X.10\n",
            "No absen\t: 22\n"
          ]
        }
      ]
    },
    {
      "cell_type": "code",
      "source": [
        "print(\"\"\"Nama: Najwa Listiana Putri\n",
        "Kelas: X.10\n",
        "No absen: 22\"\"\")"
      ],
      "metadata": {
        "colab": {
          "base_uri": "https://localhost:8080/"
        },
        "id": "LIfE94VuFUO5",
        "outputId": "d4ccf5f0-d615-401e-cb66-cb213916ee95"
      },
      "execution_count": null,
      "outputs": [
        {
          "output_type": "stream",
          "name": "stdout",
          "text": [
            "Nama: Najwa Listiana Putri\n",
            "Kelas: X.10\n",
            "No absen: 22\n"
          ]
        }
      ]
    },
    {
      "cell_type": "code",
      "source": [
        "nama = \"Najwa LP\"\n",
        "usia = 15"
      ],
      "metadata": {
        "id": "2ORLsNIYEwRq"
      },
      "execution_count": null,
      "outputs": []
    },
    {
      "cell_type": "code",
      "source": [
        "print(f\"Halo nama saya {nama}. Usia saya {usia} tahun\")"
      ],
      "metadata": {
        "colab": {
          "base_uri": "https://localhost:8080/"
        },
        "id": "_LwkvatcFQwh",
        "outputId": "bb1ee543-57c6-4767-c6ac-356cea13fdca"
      },
      "execution_count": null,
      "outputs": [
        {
          "output_type": "stream",
          "name": "stdout",
          "text": [
            "Halo nama saya Najwa LP. Usia saya 15 tahun\n"
          ]
        }
      ]
    },
    {
      "cell_type": "code",
      "source": [
        "print(\"Nama\\t\\t: Najwa LP\\nKelas\\t\\t:X.10\\nNo absen\\t: 22\")"
      ],
      "metadata": {
        "colab": {
          "base_uri": "https://localhost:8080/"
        },
        "id": "073oaG21IHys",
        "outputId": "a8fb578a-2657-48d0-803a-7131cb3ccd66"
      },
      "execution_count": null,
      "outputs": [
        {
          "output_type": "stream",
          "name": "stdout",
          "text": [
            "Nama\t\t: Najwa LP\n",
            "Kelas\t\t:X.10\n",
            "No absen\t: 22\n"
          ]
        }
      ]
    },
    {
      "cell_type": "code",
      "source": [
        "print('Najwa')"
      ],
      "metadata": {
        "colab": {
          "base_uri": "https://localhost:8080/"
        },
        "id": "-Ep3YX4y4tFj",
        "outputId": "034ec57f-453b-45eb-ef41-329e0ead3c81"
      },
      "execution_count": null,
      "outputs": [
        {
          "output_type": "stream",
          "name": "stdout",
          "text": [
            "Najwa\n"
          ]
        }
      ]
    },
    {
      "cell_type": "code",
      "source": [
        "print(\"Najwa\")"
      ],
      "metadata": {
        "colab": {
          "base_uri": "https://localhost:8080/"
        },
        "id": "-Mw2jXFB40si",
        "outputId": "8ff32c65-c102-4310-d206-9bf5a4b76c60"
      },
      "execution_count": null,
      "outputs": [
        {
          "output_type": "stream",
          "name": "stdout",
          "text": [
            "Najwa\n"
          ]
        }
      ]
    },
    {
      "cell_type": "code",
      "source": [
        "print('Najwa')"
      ],
      "metadata": {
        "colab": {
          "base_uri": "https://localhost:8080/"
        },
        "id": "A7q5ZYqV44jI",
        "outputId": "6b1412df-70a8-4e74-8fea-21b5793386ea"
      },
      "execution_count": null,
      "outputs": [
        {
          "output_type": "stream",
          "name": "stdout",
          "text": [
            "Najwa\n"
          ]
        }
      ]
    },
    {
      "cell_type": "code",
      "source": [
        "print(\"Bu Shinta berkata, \\\"Makan sosis sonice\\\"\")"
      ],
      "metadata": {
        "colab": {
          "base_uri": "https://localhost:8080/"
        },
        "id": "Mdk7A2Dn4-3X",
        "outputId": "2faaccb6-38a0-43f0-d44e-87e05664c6ff"
      },
      "execution_count": null,
      "outputs": [
        {
          "output_type": "stream",
          "name": "stdout",
          "text": [
            "Bu Shinta berkata, \"Makan sosis sonice\"\n"
          ]
        }
      ]
    },
    {
      "cell_type": "code",
      "source": [
        "print('Bu Shinta berkata,\"Makan sosis sonice\"')"
      ],
      "metadata": {
        "colab": {
          "base_uri": "https://localhost:8080/"
        },
        "id": "dsDyyXFG5MY4",
        "outputId": "6cf2fc9b-46aa-4f1a-da59-15fc942acb39"
      },
      "execution_count": null,
      "outputs": [
        {
          "output_type": "stream",
          "name": "stdout",
          "text": [
            "Bu Shinta berkata,\"Makan sosis sonice\"\n"
          ]
        }
      ]
    },
    {
      "cell_type": "code",
      "source": [
        "print(\"Simpan file di local diskD:\\\\MAN DEMAK\\\\KKA\")"
      ],
      "metadata": {
        "colab": {
          "base_uri": "https://localhost:8080/"
        },
        "id": "FJa3_iCO5deb",
        "outputId": "f817daf2-68ce-4812-9457-fb0176fa4f97"
      },
      "execution_count": null,
      "outputs": [
        {
          "output_type": "stream",
          "name": "stdout",
          "text": [
            "Simpan file di local diskD:\\MAN DEMAK\\KKA\n"
          ]
        }
      ]
    },
    {
      "cell_type": "markdown",
      "source": [
        "Parameter fungsi print"
      ],
      "metadata": {
        "id": "YHumZY7aOG_-"
      }
    },
    {
      "cell_type": "code",
      "source": [
        "nama_siswa_1 = \"najwa\""
      ],
      "metadata": {
        "id": "GA6wJJIfGqyB"
      },
      "execution_count": null,
      "outputs": []
    },
    {
      "cell_type": "code",
      "source": [
        "nama_siswa_2 = \"jenita\""
      ],
      "metadata": {
        "id": "HDghdEi4HKH8"
      },
      "execution_count": null,
      "outputs": []
    },
    {
      "cell_type": "code",
      "source": [
        "print(nama_siswa_1)"
      ],
      "metadata": {
        "colab": {
          "base_uri": "https://localhost:8080/"
        },
        "id": "2xZpxQKxHRUB",
        "outputId": "44ecb1fa-ca5d-412c-b2a5-585b41b5b0dc"
      },
      "execution_count": null,
      "outputs": [
        {
          "output_type": "stream",
          "name": "stdout",
          "text": [
            "najwa\n"
          ]
        }
      ]
    },
    {
      "cell_type": "code",
      "source": [
        "print(nama_siswa_1, nama_siswa_2)"
      ],
      "metadata": {
        "colab": {
          "base_uri": "https://localhost:8080/"
        },
        "id": "zjsQjZyiHWcM",
        "outputId": "2932ca9d-af5f-4976-874c-fb8350ff5726"
      },
      "execution_count": null,
      "outputs": [
        {
          "output_type": "stream",
          "name": "stdout",
          "text": [
            "najwa jenita\n"
          ]
        }
      ]
    },
    {
      "cell_type": "code",
      "source": [
        "print(nama_siswa_1,nama_siswa_2,sep=\"-\")"
      ],
      "metadata": {
        "colab": {
          "base_uri": "https://localhost:8080/"
        },
        "id": "aKAd0irgI1cI",
        "outputId": "f452d0dd-8fc6-4604-f148-d2a3b13cbb62"
      },
      "execution_count": null,
      "outputs": [
        {
          "output_type": "stream",
          "name": "stdout",
          "text": [
            "najwa-jenita\n"
          ]
        }
      ]
    },
    {
      "cell_type": "code",
      "source": [
        "print (nama_siswa_1, nama_siswa_2, nama_siswa_1,sep=\"*\")"
      ],
      "metadata": {
        "colab": {
          "base_uri": "https://localhost:8080/"
        },
        "id": "CYmOPW3hKtJt",
        "outputId": "ae9225cd-d3ea-4ed4-d78b-cb6c0cd88a46"
      },
      "execution_count": null,
      "outputs": [
        {
          "output_type": "stream",
          "name": "stdout",
          "text": [
            "najwa*jenita*najwa\n"
          ]
        }
      ]
    }
  ]
}